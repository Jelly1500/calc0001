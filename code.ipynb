{
  "nbformat": 4,
  "nbformat_minor": 0,
  "metadata": {
    "colab": {
      "provenance": [],
      "authorship_tag": "ABX9TyOIMa6sNzgyE9s+4xo75ZWM",
      "include_colab_link": true
    },
    "kernelspec": {
      "name": "python3",
      "display_name": "Python 3"
    },
    "language_info": {
      "name": "python"
    }
  },
  "cells": [
    {
      "cell_type": "markdown",
      "metadata": {
        "id": "view-in-github",
        "colab_type": "text"
      },
      "source": [
        "<a href=\"https://colab.research.google.com/github/Jelly1500/calc0001/blob/main/code.ipynb\" target=\"_parent\"><img src=\"https://colab.research.google.com/assets/colab-badge.svg\" alt=\"Open In Colab\"/></a>"
      ]
    },
    {
      "cell_type": "code",
      "source": [
        "%%writefile mycalc/calculator.py\n",
        "\n",
        "def add(a,b):\n",
        "  return a + b\n",
        "\n",
        "def minus(a,b):\n",
        "  return a - b"
      ],
      "metadata": {
        "colab": {
          "base_uri": "https://localhost:8080/"
        },
        "id": "ko3knxWpYxs6",
        "outputId": "721fe1ec-8fbf-4d16-cc58-a437431b664b"
      },
      "execution_count": 5,
      "outputs": [
        {
          "output_type": "stream",
          "name": "stdout",
          "text": [
            "Overwriting mycalc/calculator.py\n"
          ]
        }
      ]
    },
    {
      "cell_type": "code",
      "source": [
        "%%writefile setup.py\n",
        "import setuptools\n",
        "\n",
        "setuptools.setup (\n",
        "  name = 'Sejin',\n",
        "  version = '0.0.1',\n",
        "  description='oss-dev my calculator 0001',\n",
        "  author = 'Heosejin',\n",
        "  url = \"https://github.com/Jelly1500/calc0001\",\n",
        "  download_url = \"https://github.com/Jelly1500/calc0001/archive/refs/tags/v0.0.1.zip\",\n",
        "  package = ['mycalc'],\n",
        "  classifiers=[\n",
        "    \"Programing Language :: Python :: 3\",\n",
        "  ]\n",
        ")"
      ],
      "metadata": {
        "colab": {
          "base_uri": "https://localhost:8080/"
        },
        "id": "deJzciCtZ1-F",
        "outputId": "4a7c335e-913a-4a6f-c5e5-ba9dee6f9f45"
      },
      "execution_count": 6,
      "outputs": [
        {
          "output_type": "stream",
          "name": "stdout",
          "text": [
            "Overwriting setup.py\n"
          ]
        }
      ]
    }
  ]
}